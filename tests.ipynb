{
 "cells": [
  {
   "cell_type": "code",
   "execution_count": null,
   "metadata": {},
   "outputs": [],
   "source": []
  },
  {
   "cell_type": "code",
   "execution_count": 10,
   "metadata": {},
   "outputs": [],
   "source": [
    "# Import Libraries for Data handcling\n",
    "import pandas as pd\n",
    "\n",
    "# Import Libraries for Numerical Operations\n",
    "import numpy as np\n",
    "\n",
    "\n",
    "# Import Libraries for Machine Learning\n",
    "from sklearn.tree import DecisionTreeClassifier, plot_tree # For building and plotting a classification Tree\n",
    "from sklearn.model_selection import train_test_split # For splitting data into training and testing sets\n",
    "from sklearn.metrics import confusion_matrix , ConfusionMatrixDisplay # To create and plot a confusion matrix\n",
    "from sklearn.metrics import classification_report # For generating the classification report\n",
    "from sklearn.metrics import roc_curve, roc_auc_score # For creating and displaying the ROC curve and AUC value\n",
    "from sklearn.model_selection import GridSearchCV\n",
    "from sklearn.preprocessing import StandardScaler, MinMaxScaler, LabelEncoder \n",
    "\n",
    "# Import Libraries for Data Visualization\n",
    "import matplotlib.pyplot as plt\n",
    "import seaborn as sns\n",
    "\n"
   ]
  },
  {
   "cell_type": "code",
   "execution_count": 11,
   "metadata": {},
   "outputs": [],
   "source": [
    "df = pd.read_csv('churn.csv')"
   ]
  },
  {
   "cell_type": "code",
   "execution_count": 12,
   "metadata": {},
   "outputs": [],
   "source": [
    "# Merging Day, Eve, Night Calls into Total Calls\n",
    "df['Total_Calls'] = df['Day_Calls'] + df['Eve_Calls'] + df['Night_Calls'] \n",
    "df = df.drop(['Day_Calls','Eve_Calls','Night_Calls'], axis=1)\n",
    "\n",
    "# Merging Day, Eve, Night Mins into Total Mins \n",
    "df['Total_mins'] = df['Day_Mins'] + df['Eve_Mins'] + df['Night_Mins'] \n",
    "df = df.drop(['Day_Mins','Eve_Mins','Night_Mins'], axis=1)\n",
    "\n",
    "# Merging Day, Eve, Night Mins into Total Charge\n",
    "df['Total_Charge'] = df['Day_Charge'] + df['Eve_Charge'] + df['Night_Charge'] \n",
    "df = df.drop(['Day_Charge','Eve_Charge','Night_Charge'], axis=1)\n",
    "\n",
    "# Droping \n",
    "df = df.drop(['State', 'Area_Code', 'Phone'], axis=1)"
   ]
  },
  {
   "cell_type": "code",
   "execution_count": 13,
   "metadata": {},
   "outputs": [
    {
     "data": {
      "text/html": [
       "<div>\n",
       "<style scoped>\n",
       "    .dataframe tbody tr th:only-of-type {\n",
       "        vertical-align: middle;\n",
       "    }\n",
       "\n",
       "    .dataframe tbody tr th {\n",
       "        vertical-align: top;\n",
       "    }\n",
       "\n",
       "    .dataframe thead th {\n",
       "        text-align: right;\n",
       "    }\n",
       "</style>\n",
       "<table border=\"1\" class=\"dataframe\">\n",
       "  <thead>\n",
       "    <tr style=\"text-align: right;\">\n",
       "      <th></th>\n",
       "      <th>Account_Length</th>\n",
       "      <th>Total_Calls</th>\n",
       "      <th>Total_mins</th>\n",
       "      <th>Total_Charge</th>\n",
       "      <th>Intl_Calls</th>\n",
       "      <th>Intl_Charge</th>\n",
       "      <th>Intl_Mins</th>\n",
       "      <th>CustServ_Calls</th>\n",
       "      <th>Vmail_Message</th>\n",
       "      <th>Churn</th>\n",
       "      <th>Intl_Plan</th>\n",
       "      <th>Vmail_Plan</th>\n",
       "    </tr>\n",
       "  </thead>\n",
       "  <tbody>\n",
       "    <tr>\n",
       "      <th>0</th>\n",
       "      <td>128</td>\n",
       "      <td>300</td>\n",
       "      <td>707.2</td>\n",
       "      <td>72.86</td>\n",
       "      <td>3</td>\n",
       "      <td>2.70</td>\n",
       "      <td>10.0</td>\n",
       "      <td>1</td>\n",
       "      <td>25</td>\n",
       "      <td>no</td>\n",
       "      <td>no</td>\n",
       "      <td>yes</td>\n",
       "    </tr>\n",
       "    <tr>\n",
       "      <th>1</th>\n",
       "      <td>107</td>\n",
       "      <td>329</td>\n",
       "      <td>611.5</td>\n",
       "      <td>55.54</td>\n",
       "      <td>3</td>\n",
       "      <td>3.70</td>\n",
       "      <td>13.7</td>\n",
       "      <td>1</td>\n",
       "      <td>26</td>\n",
       "      <td>no</td>\n",
       "      <td>no</td>\n",
       "      <td>yes</td>\n",
       "    </tr>\n",
       "    <tr>\n",
       "      <th>2</th>\n",
       "      <td>137</td>\n",
       "      <td>328</td>\n",
       "      <td>527.2</td>\n",
       "      <td>59.00</td>\n",
       "      <td>5</td>\n",
       "      <td>3.29</td>\n",
       "      <td>12.2</td>\n",
       "      <td>0</td>\n",
       "      <td>0</td>\n",
       "      <td>no</td>\n",
       "      <td>no</td>\n",
       "      <td>no</td>\n",
       "    </tr>\n",
       "    <tr>\n",
       "      <th>3</th>\n",
       "      <td>84</td>\n",
       "      <td>248</td>\n",
       "      <td>558.2</td>\n",
       "      <td>65.02</td>\n",
       "      <td>7</td>\n",
       "      <td>1.78</td>\n",
       "      <td>6.6</td>\n",
       "      <td>2</td>\n",
       "      <td>0</td>\n",
       "      <td>no</td>\n",
       "      <td>yes</td>\n",
       "      <td>no</td>\n",
       "    </tr>\n",
       "    <tr>\n",
       "      <th>4</th>\n",
       "      <td>75</td>\n",
       "      <td>356</td>\n",
       "      <td>501.9</td>\n",
       "      <td>49.36</td>\n",
       "      <td>3</td>\n",
       "      <td>2.73</td>\n",
       "      <td>10.1</td>\n",
       "      <td>3</td>\n",
       "      <td>0</td>\n",
       "      <td>no</td>\n",
       "      <td>yes</td>\n",
       "      <td>no</td>\n",
       "    </tr>\n",
       "  </tbody>\n",
       "</table>\n",
       "</div>"
      ],
      "text/plain": [
       "   Account_Length  Total_Calls  Total_mins  Total_Charge  Intl_Calls  \\\n",
       "0             128          300       707.2         72.86           3   \n",
       "1             107          329       611.5         55.54           3   \n",
       "2             137          328       527.2         59.00           5   \n",
       "3              84          248       558.2         65.02           7   \n",
       "4              75          356       501.9         49.36           3   \n",
       "\n",
       "   Intl_Charge  Intl_Mins  CustServ_Calls  Vmail_Message Churn Intl_Plan  \\\n",
       "0         2.70       10.0               1             25    no        no   \n",
       "1         3.70       13.7               1             26    no        no   \n",
       "2         3.29       12.2               0              0    no        no   \n",
       "3         1.78        6.6               2              0    no       yes   \n",
       "4         2.73       10.1               3              0    no       yes   \n",
       "\n",
       "  Vmail_Plan  \n",
       "0        yes  \n",
       "1        yes  \n",
       "2         no  \n",
       "3         no  \n",
       "4         no  "
      ]
     },
     "metadata": {},
     "output_type": "display_data"
    }
   ],
   "source": [
    "col_seq = ['Account_Length', 'Total_Calls', 'Total_mins', 'Total_Charge',\n",
    " 'Intl_Calls', 'Intl_Charge', 'Intl_Mins', 'CustServ_Calls', 'Vmail_Message',\n",
    "       'Churn', 'Intl_Plan', 'Vmail_Plan']\n",
    "df = df[col_seq]\n",
    "\n",
    "display(df.head())\n"
   ]
  },
  {
   "cell_type": "code",
   "execution_count": 14,
   "metadata": {},
   "outputs": [
    {
     "data": {
      "text/html": [
       "<div>\n",
       "<style scoped>\n",
       "    .dataframe tbody tr th:only-of-type {\n",
       "        vertical-align: middle;\n",
       "    }\n",
       "\n",
       "    .dataframe tbody tr th {\n",
       "        vertical-align: top;\n",
       "    }\n",
       "\n",
       "    .dataframe thead th {\n",
       "        text-align: right;\n",
       "    }\n",
       "</style>\n",
       "<table border=\"1\" class=\"dataframe\">\n",
       "  <thead>\n",
       "    <tr style=\"text-align: right;\">\n",
       "      <th></th>\n",
       "      <th>Account_Length</th>\n",
       "      <th>Total_Calls</th>\n",
       "      <th>Total_mins</th>\n",
       "      <th>Total_Charge</th>\n",
       "      <th>Intl_Calls</th>\n",
       "      <th>Intl_Charge</th>\n",
       "      <th>Intl_Mins</th>\n",
       "      <th>CustServ_Calls</th>\n",
       "      <th>Vmail_Message</th>\n",
       "      <th>Churn</th>\n",
       "      <th>Intl_Plan</th>\n",
       "      <th>Vmail_Plan</th>\n",
       "    </tr>\n",
       "  </thead>\n",
       "  <tbody>\n",
       "    <tr>\n",
       "      <th>0</th>\n",
       "      <td>128</td>\n",
       "      <td>300</td>\n",
       "      <td>707.2</td>\n",
       "      <td>72.86</td>\n",
       "      <td>3</td>\n",
       "      <td>2.70</td>\n",
       "      <td>10.0</td>\n",
       "      <td>1</td>\n",
       "      <td>25</td>\n",
       "      <td>0</td>\n",
       "      <td>no</td>\n",
       "      <td>yes</td>\n",
       "    </tr>\n",
       "    <tr>\n",
       "      <th>1</th>\n",
       "      <td>107</td>\n",
       "      <td>329</td>\n",
       "      <td>611.5</td>\n",
       "      <td>55.54</td>\n",
       "      <td>3</td>\n",
       "      <td>3.70</td>\n",
       "      <td>13.7</td>\n",
       "      <td>1</td>\n",
       "      <td>26</td>\n",
       "      <td>0</td>\n",
       "      <td>no</td>\n",
       "      <td>yes</td>\n",
       "    </tr>\n",
       "    <tr>\n",
       "      <th>2</th>\n",
       "      <td>137</td>\n",
       "      <td>328</td>\n",
       "      <td>527.2</td>\n",
       "      <td>59.00</td>\n",
       "      <td>5</td>\n",
       "      <td>3.29</td>\n",
       "      <td>12.2</td>\n",
       "      <td>0</td>\n",
       "      <td>0</td>\n",
       "      <td>0</td>\n",
       "      <td>no</td>\n",
       "      <td>no</td>\n",
       "    </tr>\n",
       "    <tr>\n",
       "      <th>3</th>\n",
       "      <td>84</td>\n",
       "      <td>248</td>\n",
       "      <td>558.2</td>\n",
       "      <td>65.02</td>\n",
       "      <td>7</td>\n",
       "      <td>1.78</td>\n",
       "      <td>6.6</td>\n",
       "      <td>2</td>\n",
       "      <td>0</td>\n",
       "      <td>0</td>\n",
       "      <td>yes</td>\n",
       "      <td>no</td>\n",
       "    </tr>\n",
       "    <tr>\n",
       "      <th>4</th>\n",
       "      <td>75</td>\n",
       "      <td>356</td>\n",
       "      <td>501.9</td>\n",
       "      <td>49.36</td>\n",
       "      <td>3</td>\n",
       "      <td>2.73</td>\n",
       "      <td>10.1</td>\n",
       "      <td>3</td>\n",
       "      <td>0</td>\n",
       "      <td>0</td>\n",
       "      <td>yes</td>\n",
       "      <td>no</td>\n",
       "    </tr>\n",
       "  </tbody>\n",
       "</table>\n",
       "</div>"
      ],
      "text/plain": [
       "   Account_Length  Total_Calls  Total_mins  Total_Charge  Intl_Calls  \\\n",
       "0             128          300       707.2         72.86           3   \n",
       "1             107          329       611.5         55.54           3   \n",
       "2             137          328       527.2         59.00           5   \n",
       "3              84          248       558.2         65.02           7   \n",
       "4              75          356       501.9         49.36           3   \n",
       "\n",
       "   Intl_Charge  Intl_Mins  CustServ_Calls  Vmail_Message  Churn Intl_Plan  \\\n",
       "0         2.70       10.0               1             25      0        no   \n",
       "1         3.70       13.7               1             26      0        no   \n",
       "2         3.29       12.2               0              0      0        no   \n",
       "3         1.78        6.6               2              0      0       yes   \n",
       "4         2.73       10.1               3              0      0       yes   \n",
       "\n",
       "  Vmail_Plan  \n",
       "0        yes  \n",
       "1        yes  \n",
       "2         no  \n",
       "3         no  \n",
       "4         no  "
      ]
     },
     "metadata": {},
     "output_type": "display_data"
    }
   ],
   "source": [
    "# Making Values in Churn column binary\n",
    "\n",
    "def binary_convert(x):\n",
    "    if \"yes\" in x:\n",
    "        return 1\n",
    "    if \"no\" in x:\n",
    "        return 0\n",
    "\n",
    "df['Churn'] = df['Churn'].apply(binary_convert)\n",
    "\n",
    "# df = df.replace({'Churn': {'no':0, 'yes':1}})\n",
    "\n",
    "display(df.head())\n"
   ]
  },
  {
   "cell_type": "code",
   "execution_count": 15,
   "metadata": {},
   "outputs": [],
   "source": [
    "# Creating a copy of dataframe that uses label encoding\n",
    "df_le = df.copy()\n",
    "\n",
    "LE = LabelEncoder()\n",
    "\n",
    "# Label Encoding the categorical feature\n",
    "df_le['Intl_Plan'] = LE.fit_transform(df['Intl_Plan'])\n",
    "df_le['Vmail_Plan'] = LE.fit_transform(df['Vmail_Plan'])\n",
    "\n",
    "# Display the result of encoding\n",
    "# display(df_le.head())\n",
    "# display(df_le.shape)"
   ]
  },
  {
   "cell_type": "code",
   "execution_count": 16,
   "metadata": {},
   "outputs": [],
   "source": [
    "# Creating a copy of dataframe that uses one-hot encoding\n",
    "df_one = df.copy()\n",
    "\n",
    "# One-hot Encoding the categorical feature\n",
    "df_one = pd.get_dummies(df_one, columns= ['Intl_Plan', 'Vmail_Plan'])\n",
    "\n",
    "# Display the result of encoding\n",
    "# display(df_one.head())\n",
    "# display(df_one.shape)"
   ]
  },
  {
   "cell_type": "code",
   "execution_count": 17,
   "metadata": {},
   "outputs": [],
   "source": [
    "# Create the Features dataframe from one hot encoded dataframe\n",
    "x_one = df_one.drop(columns = [\"Churn\"], axis = 1).copy()\n",
    "\n",
    "# Create the Target Dataframe\n",
    "y_one = df_one[[\"Churn\"]].copy()\n",
    "\n",
    "# Create the Features dataframe from label encoded dataframe\n",
    "x_le = df_le.drop(columns = [\"Churn\"], axis = 1).copy()\n",
    "\n",
    "# Create the Target Dataframe\n",
    "y_le = df_le[[\"Churn\"]].copy()\n",
    "\n"
   ]
  },
  {
   "cell_type": "code",
   "execution_count": 19,
   "metadata": {},
   "outputs": [],
   "source": [
    "#Split the Dataset\n",
    "x_train_one, x_test_one, y_train_one, y_test_one = train_test_split(x_one, y_one, test_size = 0.2, random_state = 47, stratify = y_one )\n",
    "\n",
    "x_train_le, x_test_le, y_train_le, y_test_le = train_test_split(x_le, y_le, test_size = 0.2, random_state = 47, stratify = y_le )\n"
   ]
  },
  {
   "cell_type": "code",
   "execution_count": 20,
   "metadata": {},
   "outputs": [],
   "source": [
    "# Create a model instance\n",
    "model_one = DecisionTreeClassifier(random_state = 47)\n",
    "model_le = DecisionTreeClassifier(random_state = 47)\n",
    "\n",
    "# Fit data to model\n",
    "model_one = model_one.fit(x_train_one, y_train_one)\n",
    "model_le = model_le.fit(x_train_le, y_train_le)\n",
    "\n",
    "y_pred_one = model_one.predict(x_test_one)\n",
    "y_pred_le = model_le.predict(x_test_le)\n"
   ]
  },
  {
   "cell_type": "code",
   "execution_count": 21,
   "metadata": {},
   "outputs": [],
   "source": [
    "model_grid_one = DecisionTreeClassifier(random_state=47)\n",
    "model_grid_le = DecisionTreeClassifier(random_state=47)\n",
    "\n",
    "cv = 5\n",
    "\n",
    "parameters = {  'criterion': ['gini','entropy'], \n",
    "                'max_features': ['auto'], \n",
    "                'max_depth': np.arange(3, 13, 1).tolist(), \n",
    "                'min_samples_leaf': np.arange(1, 4, 1).tolist()}\n",
    "\n",
    "grid_search_one = GridSearchCV(estimator=model_grid_one,\n",
    "                           param_grid=parameters,\n",
    "                           scoring=\"accuracy\",\n",
    "                           cv=cv,\n",
    "                           n_jobs=-1)\n",
    "\n",
    "grid_search_le = GridSearchCV(estimator=model_grid_le,\n",
    "                           param_grid=parameters,\n",
    "                           scoring=\"accuracy\",\n",
    "                           cv=cv,\n",
    "                           n_jobs=-1)\n"
   ]
  },
  {
   "cell_type": "code",
   "execution_count": 22,
   "metadata": {},
   "outputs": [],
   "source": [
    "model_grid_one = grid_search_one.fit(x_train_one, y_train_one)\n",
    "model_grid_le = grid_search_le.fit(x_train_le, y_train_le)"
   ]
  },
  {
   "cell_type": "code",
   "execution_count": 23,
   "metadata": {},
   "outputs": [],
   "source": [
    "y_pred_grid_one = model_grid_one.predict(x_test_one)\n",
    "\n",
    "y_pred_grid_le = model_grid_le.predict(x_test_le)\n"
   ]
  },
  {
   "cell_type": "code",
   "execution_count": 24,
   "metadata": {},
   "outputs": [
    {
     "data": {
      "text/plain": [
       "{'criterion': 'entropy',\n",
       " 'max_depth': 9,\n",
       " 'max_features': 'auto',\n",
       " 'min_samples_leaf': 2}"
      ]
     },
     "metadata": {},
     "output_type": "display_data"
    },
    {
     "data": {
      "text/plain": [
       "{'criterion': 'entropy',\n",
       " 'max_depth': 10,\n",
       " 'max_features': 'auto',\n",
       " 'min_samples_leaf': 2}"
      ]
     },
     "metadata": {},
     "output_type": "display_data"
    }
   ],
   "source": [
    "display(model_grid_one.best_params_)\n",
    "display(model_grid_le.best_params_)"
   ]
  },
  {
   "cell_type": "code",
   "execution_count": 25,
   "metadata": {},
   "outputs": [
    {
     "data": {
      "image/png": "[encoded data removed]",
      "text/plain": [
       "<Figure size 1440x360 with 3 Axes>"
      ]
     },
     "metadata": {
      "needs_background": "light"
     },
     "output_type": "display_data"
    }
   ],
   "source": [
    "f  , (ax1 , ax2) = plt.subplots(1,2 ,figsize=(20,5))\n",
    "\n",
    "disp = ConfusionMatrixDisplay(confusion_matrix(y_test_one, y_pred_one), display_labels=[\"Won't Churn\", \"Churn\"])\n",
    "disp.plot(ax=ax1)\n",
    "disp.im_.colorbar.remove()\n",
    "disp.ax_.set_title('Untuned')\n",
    "disp.ax_.set_xlabel('')\n",
    "\n",
    "\n",
    "disp_grid = ConfusionMatrixDisplay(confusion_matrix(y_test_one, y_pred_grid_one), display_labels=[\"Won't Churn\", \"Churn\"])\n",
    "disp_grid.plot(ax=ax2)\n",
    "disp_grid.im_.colorbar.remove()\n",
    "disp_grid.ax_.set_title('Tuned')\n",
    "disp_grid.ax_.set_xlabel('')\n",
    "disp_grid.ax_.set_ylabel('')\n",
    "\n",
    "\n",
    "f.text(0.45, 0.10, 'Predicted label', ha='left')\n",
    "plt.subplots_adjust(wspace=0.45, hspace=0.10)\n",
    "\n",
    "\n",
    "f.colorbar(disp.im_, ax=[ax1,ax2])\n",
    "plt.show()\n"
   ]
  },
  {
   "cell_type": "code",
   "execution_count": 26,
   "metadata": {},
   "outputs": [
    {
     "data": {
      "image/png": "[encoded data removed]",
      "text/plain": [
       "<Figure size 1440x360 with 3 Axes>"
      ]
     },
     "metadata": {
      "needs_background": "light"
     },
     "output_type": "display_data"
    }
   ],
   "source": [
    "f  , (ax1 , ax2) = plt.subplots(1,2 ,figsize=(20,5))\n",
    "\n",
    "disp = ConfusionMatrixDisplay(confusion_matrix(y_test_le, y_pred_le), display_labels=[\"Won't Churn\", \"Churn\"])\n",
    "disp.plot(ax=ax1)\n",
    "disp.im_.colorbar.remove()\n",
    "disp.ax_.set_title('Untuned')\n",
    "disp.ax_.set_xlabel('')\n",
    "\n",
    "\n",
    "disp_grid = ConfusionMatrixDisplay(confusion_matrix(y_test_le, y_pred_grid_le), display_labels=[\"Won't Churn\", \"Churn\"])\n",
    "disp_grid.plot(ax=ax2)\n",
    "disp_grid.im_.colorbar.remove()\n",
    "disp_grid.ax_.set_title('Tuned')\n",
    "disp_grid.ax_.set_xlabel('')\n",
    "disp_grid.ax_.set_ylabel('')\n",
    "\n",
    "\n",
    "f.text(0.45, 0.10, 'Predicted label', ha='left')\n",
    "plt.subplots_adjust(wspace=0.45, hspace=0.10)\n",
    "\n",
    "\n",
    "f.colorbar(disp.im_, ax=[ax1,ax2])\n",
    "plt.show()\n",
    "\n",
    "\n"
   ]
  },
  {
   "cell_type": "code",
   "execution_count": 27,
   "metadata": {},
   "outputs": [
    {
     "name": "stdout",
     "output_type": "stream",
     "text": [
      "Classification Report:\n",
      "              precision    recall  f1-score   support\n",
      "\n",
      "           0       0.97      0.97      0.97       570\n",
      "           1       0.83      0.79      0.81        97\n",
      "\n",
      "    accuracy                           0.95       667\n",
      "   macro avg       0.90      0.88      0.89       667\n",
      "weighted avg       0.95      0.95      0.95       667\n",
      "\n",
      "Classification Report:\n",
      "              precision    recall  f1-score   support\n",
      "\n",
      "           0       0.94      0.99      0.97       570\n",
      "           1       0.94      0.66      0.78        97\n",
      "\n",
      "    accuracy                           0.94       667\n",
      "   macro avg       0.94      0.83      0.87       667\n",
      "weighted avg       0.94      0.94      0.94       667\n",
      "\n"
     ]
    }
   ],
   "source": [
    "# Generate and diaplay the classification report for untuned model\n",
    "class_report = classification_report(y_test_one, y_pred_one)\n",
    "print(\"Classification Report:\")\n",
    "print(class_report)\n",
    "\n",
    "# Generate and diaplay the classification report forr tuned model\n",
    "class_report = classification_report(y_test_le, y_pred_grid_le)\n",
    "a= 1\n",
    "print(f\"Classification Report:\" )\n",
    "print(class_report)\n"
   ]
  },
  {
   "cell_type": "code",
   "execution_count": 29,
   "metadata": {},
   "outputs": [
    {
     "name": "stdout",
     "output_type": "stream",
     "text": [
      "Classification Report:\n",
      "              precision    recall  f1-score   support\n",
      "\n",
      "           0       0.97      0.97      0.97       570\n",
      "           1       0.83      0.79      0.81        97\n",
      "\n",
      "    accuracy                           0.95       667\n",
      "   macro avg       0.90      0.88      0.89       667\n",
      "weighted avg       0.95      0.95      0.95       667\n",
      "\n",
      "Classification Report:\n",
      "              precision    recall  f1-score   support\n",
      "\n",
      "           0       0.94      0.99      0.97       570\n",
      "           1       0.94      0.66      0.78        97\n",
      "\n",
      "    accuracy                           0.94       667\n",
      "   macro avg       0.94      0.83      0.87       667\n",
      "weighted avg       0.94      0.94      0.94       667\n",
      "\n"
     ]
    }
   ],
   "source": [
    "# Generate and diaplay the classification report for untuned model\n",
    "\n",
    "\n",
    "class_report = classification_report(y_test_one, y_pred_le)\n",
    "print(\"Classification Report:\")\n",
    "print(class_report)\n",
    "\n",
    "# Generate and diaplay the classification report forr tuned model\n",
    "class_report = classification_report(y_test_le, y_pred_grid_le)\n",
    "a= 1\n",
    "print(f\"Classification Report:\" )\n",
    "print(class_report)\n"
   ]
  },
  {
   "cell_type": "code",
   "execution_count": 31,
   "metadata": {},
   "outputs": [
    {
     "data": {
      "image/png": "[encoded data removed]",
      "text/plain": [
       "<Figure size 1440x360 with 2 Axes>"
      ]
     },
     "metadata": {
      "needs_background": "light"
     },
     "output_type": "display_data"
    }
   ],
   "source": [
    "# Get the prediction probabilites\n",
    "\n",
    "atr = 'one'\n",
    "\n",
    "y_pred_proba_one = model_one.predict_proba(x_test_one)[:,1]\n",
    "y_pred_proba_grid_one = model_grid_one.predict_proba(x_test_one)[:,1]\n",
    "\n",
    "# Generate the ROC values\n",
    "fpr_one, tpr_one, thr_one = roc_curve(y_test_one, y_pred_proba_one)\n",
    "fpr_grid_one, tpr_grid_one, thr_grid_one = roc_curve(y_test_one, y_pred_proba_grid_one)\n",
    "\n",
    "# Evaluate AUC value\n",
    "auc_one = np.round(roc_auc_score(y_test_one, y_pred_one), 3)\n",
    "auc_grid_one = np.round(roc_auc_score(y_test_one, y_pred_grid_one), 3)\n",
    "\n",
    "# Plot the ROC Curve\n",
    "f  , (ax1 , ax2) = plt.subplots(1,2 ,figsize=(20,5))\n",
    "\n",
    "\n",
    "ax1.plot(fpr_one, tpr_one, color='green', lw=2, label=\"Curve Area = \" +str(auc_one))\n",
    "ax1.plot([0, 1], [0, 1], color='blue', lw=2, linestyle='--')\n",
    "ax1.set_xlabel('False Positive Rate (FPR)')\n",
    "ax1.set_ylabel('True Positive Rate (TPR)')\n",
    "ax1.set_title('ROC curve')\n",
    "ax1.legend(loc=\"lower right\")\n",
    "\n",
    "\n",
    "\n",
    "\n",
    "# plt.figure(figsize=(8, 8))\n",
    "\n",
    "ax2.plot(fpr_grid_one, tpr_grid_one, color='green', lw=2, label=\"Curve Area = \" +str(auc_grid_one))\n",
    "ax2.plot([0, 1], [0, 1], color='blue', lw=2, linestyle='--')\n",
    "ax2.set_xlabel('False Positive Rate (FPR)')\n",
    "ax2.set_ylabel('True Positive Rate (TPR)')\n",
    "ax2.set_title('ROC curve')\n",
    "ax2.legend(loc=\"lower right\")\n",
    "\n",
    "plt.show()"
   ]
  },
  {
   "cell_type": "code",
   "execution_count": 32,
   "metadata": {},
   "outputs": [
    {
     "data": {
      "image/png": "[encoded data removed]",
      "text/plain": [
       "<Figure size 1440x360 with 2 Axes>"
      ]
     },
     "metadata": {
      "needs_background": "light"
     },
     "output_type": "display_data"
    }
   ],
   "source": [
    "# Get the prediction probabilites\n",
    "\n",
    "atr = 'le'\n",
    "\n",
    "y_pred_proba_le = model_le.predict_proba(x_test_le)[:,1]\n",
    "y_pred_proba_grid_le = model_grid_le.predict_proba(x_test_le)[:,1]\n",
    "\n",
    "# Generate the ROC values\n",
    "fpr_le, tpr_le, thr_le = roc_curve(y_test_le, y_pred_proba_le)\n",
    "fpr_grid_le, tpr_grid_le, thr_grid_le = roc_curve(y_test_le, y_pred_proba_grid_le)\n",
    "\n",
    "# Evaluate AUC value\n",
    "auc_le = np.round(roc_auc_score(y_test_le, y_pred_le), 3)\n",
    "auc_grid_le = np.round(roc_auc_score(y_test_le, y_pred_grid_le), 3)\n",
    "\n",
    "# Plot the ROC Curve\n",
    "f  , (ax1 , ax2) = plt.subplots(1,2 ,figsize=(20,5))\n",
    "\n",
    "\n",
    "ax1.plot(fpr_le, tpr_le, color='green', lw=2, label=\"Curve Area = \" +str(auc_le))\n",
    "ax1.plot([0, 1], [0, 1], color='blue', lw=2, linestyle='--')\n",
    "ax1.set_xlabel('False Positive Rate (FPR)')\n",
    "ax1.set_ylabel('True Positive Rate (TPR)')\n",
    "ax1.set_title('ROC curve')\n",
    "ax1.legend(loc=\"lower right\")\n",
    "\n",
    "\n",
    "\n",
    "\n",
    "# plt.figure(figsize=(8, 8))\n",
    "\n",
    "ax2.plot(fpr_grid_le, tpr_grid_le, color='green', lw=2, label=\"Curve Area = \" +str(auc_grid_le))\n",
    "ax2.plot([0, 1], [0, 1], color='blue', lw=2, linestyle='--')\n",
    "ax2.set_xlabel('False Positive Rate (FPR)')\n",
    "ax2.set_ylabel('True Positive Rate (TPR)')\n",
    "ax2.set_title('ROC curve')\n",
    "ax2.legend(loc=\"lower right\")\n",
    "\n",
    "plt.show()"
   ]
  }
 ],
 "metadata": {
  "interpreter": {
   "hash": "fcf1d46d271c46101d6967829d4a5f475342a2ce08e4944f989fbcdc9bb23690"
  },
  "kernelspec": {
   "display_name": "Python 3.9.0 64-bit",
   "name": "python3"
  },
  "language_info": {
   "codemirror_mode": {
    "name": "ipython",
    "version": 3
   },
   "file_extension": ".py",
   "mimetype": "text/x-python",
   "name": "python",
   "nbconvert_exporter": "python",
   "pygments_lexer": "ipython3",
   "version": "3.9.0"
  },
  "orig_nbformat": 4
 },
 "nbformat": 4,
 "nbformat_minor": 2
}
